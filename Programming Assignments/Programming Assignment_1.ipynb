{
 "cells": [
  {
   "cell_type": "markdown",
   "metadata": {},
   "source": [
    "1.\tWrite a Python program to print \"Hello Python\"?\n",
    "2.\tWrite a Python program to do arithmetical operations addition and division.?\n",
    "3.\tWrite a Python program to find the area of a triangle?\n",
    "4.\tWrite a Python program to swap two variables?\n",
    "5.\tWrite a Python program to generate a random number?"
   ]
  },
  {
   "cell_type": "code",
   "execution_count": 1,
   "metadata": {},
   "outputs": [
    {
     "name": "stdout",
     "output_type": "stream",
     "text": [
      "Hello Python\n"
     ]
    }
   ],
   "source": [
    "print(\"Hello Python\")"
   ]
  },
  {
   "cell_type": "code",
   "execution_count": 2,
   "metadata": {},
   "outputs": [
    {
     "name": "stdout",
     "output_type": "stream",
     "text": [
      "Addition :  30\n",
      "Division :  0.5\n"
     ]
    }
   ],
   "source": [
    "a=10\n",
    "b=20\n",
    "print(\"Addition : \" ,a+b)\n",
    "print(\"Division : \" ,a/b)"
   ]
  },
  {
   "cell_type": "code",
   "execution_count": 3,
   "metadata": {},
   "outputs": [
    {
     "name": "stdout",
     "output_type": "stream",
     "text": [
      "Enter the base value of triangle : 40\n",
      "Enter the height value of triangle : 344\n",
      "Area of triangle is :  6880.0\n"
     ]
    }
   ],
   "source": [
    "base = int(input('Enter the base value of triangle : '))\n",
    "height = int(input('Enter the height value of triangle : '))\n",
    "area = 1/2*(base*height)\n",
    "print(\"Area of triangle is : \" ,area)"
   ]
  },
  {
   "cell_type": "code",
   "execution_count": 4,
   "metadata": {},
   "outputs": [
    {
     "name": "stdout",
     "output_type": "stream",
     "text": [
      "Enter the first number for swapping : 23\n",
      "Enter the second number for swapping : 322\n",
      "Both numbers before swapping are  \n",
      "no.1 =  23 \n",
      "no.2 =  322\n",
      "Both numbers after swapping are :  \n",
      "no.1 =  322 \n",
      "no.2 =  23\n"
     ]
    }
   ],
   "source": [
    "Number_1 = int(input('Enter the first number for swapping : '))\n",
    "Number_2 = int(input('Enter the second number for swapping : '))\n",
    "print(\"Both numbers before swapping are \" , '\\n' \"no.1 = \",Number_1 , '\\n' \"no.2 = \",Number_2)\n",
    "Temp = Number_1\n",
    "Number_1 = Number_2\n",
    "Number_2 = Temp\n",
    "print(\"Both numbers after swapping are : \" , '\\n' \"no.1 = \",Number_1 , '\\n' \"no.2 = \",Number_2)"
   ]
  },
  {
   "cell_type": "code",
   "execution_count": 5,
   "metadata": {},
   "outputs": [
    {
     "name": "stdout",
     "output_type": "stream",
     "text": [
      "Generate random number in python using the random() function: \n",
      "348421\n",
      "Generate random number in python using the choice() function: \n",
      "1\n",
      "\r\n"
     ]
    }
   ],
   "source": [
    "print('Generate random number in python using the random() function: ')\n",
    "\n",
    "import random\n",
    "\n",
    "print(random.randint(100,900000))\n",
    "\n",
    "print('Generate random number in python using the choice() function: ')\n",
    "\n",
    "print(random.choice([1,2,3,4,5,6]))\n",
    "\n",
    "print('\\r')"
   ]
  }
 ],
 "metadata": {
  "kernelspec": {
   "display_name": "Python 3",
   "language": "python",
   "name": "python3"
  },
  "language_info": {
   "codemirror_mode": {
    "name": "ipython",
    "version": 3
   },
   "file_extension": ".py",
   "mimetype": "text/x-python",
   "name": "python",
   "nbconvert_exporter": "python",
   "pygments_lexer": "ipython3",
   "version": "3.8.5"
  }
 },
 "nbformat": 4,
 "nbformat_minor": 4
}
