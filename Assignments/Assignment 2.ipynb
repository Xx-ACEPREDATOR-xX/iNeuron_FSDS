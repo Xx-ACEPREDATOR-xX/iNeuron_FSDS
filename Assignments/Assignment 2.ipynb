{
 "cells": [
  {
   "cell_type": "markdown",
   "metadata": {},
   "source": [
    "# 1. What are the Boolean data type's two values? How do you go about writing them?\n",
    "\n",
    "The Boolean data type has only two values: true or false.\n",
    "We can write them as;"
   ]
  },
  {
   "cell_type": "code",
   "execution_count": 1,
   "metadata": {},
   "outputs": [
    {
     "name": "stdout",
     "output_type": "stream",
     "text": [
      "True\n",
      "1\n"
     ]
    }
   ],
   "source": [
    "print(True or False)\n",
    "print(True+False)"
   ]
  },
  {
   "cell_type": "markdown",
   "metadata": {},
   "source": [
    "# 2. What are the three different types of Boolean operators?\n",
    "\n",
    "The three different types of Boolean operators are AND , OR and NOT"
   ]
  },
  {
   "cell_type": "markdown",
   "metadata": {},
   "source": [
    "# 3. Make a list of each Boolean operator's truth tables (i.e. every possible combination of Boolean values for the operator and what it evaluate )."
   ]
  },
  {
   "cell_type": "code",
   "execution_count": 2,
   "metadata": {},
   "outputs": [
    {
     "name": "stdout",
     "output_type": "stream",
     "text": [
      "False\n",
      "True\n",
      "True\n",
      "False\n",
      "False\n",
      "False\n",
      "True\n",
      "True\n",
      "True\n",
      "False\n"
     ]
    }
   ],
   "source": [
    "# Case1: The NOT Boolean Operator\n",
    "\n",
    "print(not True)\n",
    "print(not False)\n",
    "\n",
    "# Case2: The AND Boolean Operator\n",
    "\n",
    "print(True and True)\n",
    "print(True and False)\n",
    "print(False and True)\n",
    "print(False and False)\n",
    "\n",
    "# Case3: The OR Boolean Operator\n",
    "\n",
    "print(True or True)\n",
    "print(True or False)\n",
    "print(False or True)\n",
    "print(False or False)"
   ]
  },
  {
   "cell_type": "markdown",
   "metadata": {},
   "source": [
    "# 4. What are the values of the following expressions?"
   ]
  },
  {
   "cell_type": "code",
   "execution_count": 3,
   "metadata": {},
   "outputs": [
    {
     "name": "stdout",
     "output_type": "stream",
     "text": [
      "False\n",
      "False\n",
      "True\n",
      "False\n",
      "False\n",
      "True\n"
     ]
    }
   ],
   "source": [
    "print((5 > 4) and (3 == 5))\n",
    "\n",
    "print(not (5 > 4))\n",
    "\n",
    "print((5 > 4) or (3 == 5))\n",
    "\n",
    "print(not ((5 > 4) or (3 == 5)))\n",
    "\n",
    "print((True and True) and (True == False))\n",
    "\n",
    "print((not False) or (not True))\n"
   ]
  },
  {
   "cell_type": "markdown",
   "metadata": {},
   "source": [
    "# 5. What are the six different types of reference operators?\n",
    "\n",
    "Python divides the operators in the following groups:\n",
    "\n",
    "1. Arithmetic Operators: used to perform mathematical operations\n",
    "2. Assignment Operators: used to declare assignments to the operands .\n",
    "3. Comparison Operators: used in determining the relation between the operand on either side of the operator. Also known as Relational operators.\n",
    "4. Logical Operators: used to perform similar operations as that of logical gates.\n",
    "5. Identity Operators: used to compare the memory locations of the operands, they are quite often used to determine if the operand is of a particular type.\n",
    "6. Membership Operators: used in validation of membership of operand test in a sequence such as strings, lists or tuples.\n",
    "7. Bitwise Operators: refers to the operators working on bit i.e. bitwise operation 5 will be considered as 0101"
   ]
  },
  {
   "cell_type": "markdown",
   "metadata": {},
   "source": [
    "# 6. How do you tell the difference between the equal to and assignment operators?\n",
    "\n",
    "# 7. Describe a condition and when you would use one.\n",
    "\n",
    "The Assignment Operator (=) assigns the value of right side expression's or variable's value to the left side variable.\n",
    "\n",
    "The Equal To Operator compares value of left and right side expressions, return 1 if they are equal otherwise return 0.\n",
    "\n",
    "Let's understand by example both these operators;"
   ]
  },
  {
   "cell_type": "code",
   "execution_count": 4,
   "metadata": {},
   "outputs": [
    {
     "name": "stdout",
     "output_type": "stream",
     "text": [
      "1\n",
      "True\n"
     ]
    }
   ],
   "source": [
    "x=1\n",
    "y=x\n",
    "print(y)\n",
    "\n",
    "x=10\n",
    "y=10\n",
    "if (x==y):\n",
    "    print(\"True\")\n",
    "else:\n",
    "    print(\"False\")    "
   ]
  },
  {
   "cell_type": "markdown",
   "metadata": {},
   "source": [
    "# 8. Recognize the following three blocks in this code:\n"
   ]
  },
  {
   "cell_type": "code",
   "execution_count": 5,
   "metadata": {},
   "outputs": [
    {
     "name": "stdout",
     "output_type": "stream",
     "text": [
      "spam\n"
     ]
    }
   ],
   "source": [
    "\n",
    "spam = 0                       # Assignment operator \n",
    "if spam == 10:                 # Comparison operator\n",
    "    print('eggs')\n",
    "    if spam > 5:               # Comparison operator\n",
    "        print('bacon')\n",
    "    else:\n",
    "        print('ham')\n",
    "    print('spam')\n",
    "print('spam')\n"
   ]
  },
  {
   "cell_type": "markdown",
   "metadata": {},
   "source": [
    "# 9. Create a programme that prints. If 1 is stored in spam, prints Hello; if 2 is stored in spam, prints Howdy; and if 3 is stored in spam, prints Salutations! if there's something else in spam."
   ]
  },
  {
   "cell_type": "code",
   "execution_count": 6,
   "metadata": {},
   "outputs": [
    {
     "name": "stdout",
     "output_type": "stream",
     "text": [
      "Enter a numer in range 1,2,3 :  1\n",
      "Hello\n"
     ]
    }
   ],
   "source": [
    "spam = int(input('Enter a numer in range 1,2,3 :  '))\n",
    "if spam == 1:\n",
    "    print(\"Hello\")\n",
    "elif spam ==2:\n",
    "    print(\"Howdy\")\n",
    "elif spam ==3:\n",
    "    print(\"Salutations\")\n",
    "else:\n",
    "    print(\"Enter a valid number from range 1,2,3 \")"
   ]
  },
  {
   "cell_type": "code",
   "execution_count": 7,
   "metadata": {},
   "outputs": [
    {
     "name": "stdout",
     "output_type": "stream",
     "text": [
      "Enter a numer in range 1,2,3 :  2\n",
      "Howdy\n"
     ]
    }
   ],
   "source": [
    "spam = int(input('Enter a numer in range 1,2,3 :  '))\n",
    "if spam == 1:\n",
    "    print(\"Hello\")\n",
    "elif spam ==2:\n",
    "    print(\"Howdy\")\n",
    "elif spam ==3:\n",
    "    print(\"Salutations\")\n",
    "else:\n",
    "    print(\"Enter a valid number from range 1,2,3 \")"
   ]
  },
  {
   "cell_type": "code",
   "execution_count": 8,
   "metadata": {},
   "outputs": [
    {
     "name": "stdout",
     "output_type": "stream",
     "text": [
      "Enter a numer in range 1,2,3 :  3\n",
      "Salutations\n"
     ]
    }
   ],
   "source": [
    "spam = int(input('Enter a numer in range 1,2,3 :  '))\n",
    "if spam == 1:\n",
    "    print(\"Hello\")\n",
    "elif spam ==2:\n",
    "    print(\"Howdy\")\n",
    "elif spam ==3:\n",
    "    print(\"Salutations\")\n",
    "else:\n",
    "    print(\"Enter a valid number from range 1,2,3 \")\n"
   ]
  },
  {
   "cell_type": "code",
   "execution_count": 9,
   "metadata": {},
   "outputs": [
    {
     "name": "stdout",
     "output_type": "stream",
     "text": [
      "Enter a numer in range 1,2,3 :  4\n",
      "Enter a valid number from range 1,2,3 \n"
     ]
    }
   ],
   "source": [
    "spam = int(input('Enter a numer in range 1,2,3 :  '))\n",
    "if spam == 1:\n",
    "    print(\"Hello\")\n",
    "elif spam ==2:\n",
    "    print(\"Howdy\")\n",
    "elif spam ==3:\n",
    "    print(\"Salutations\")\n",
    "else:\n",
    "    print(\"Enter a valid number from range 1,2,3 \")"
   ]
  },
  {
   "cell_type": "markdown",
   "metadata": {},
   "source": [
    "# 10.If your programme is stuck in an endless loop, what keys can you press?\n",
    "\n",
    "### I,I: interrupt the kernel\n",
    "### 0,0: restart the kernel (with dialog)\n",
    "### Ctrl+Shift+Esc :Start the Task Manager and end the jupyter notebook process"
   ]
  },
  {
   "cell_type": "markdown",
   "metadata": {},
   "source": [
    "# 11. How can you tell the difference between break and continue?\n",
    "\n",
    "The main difference between break and continue is that break is used for immediate termination of loop. \n",
    "On the other hand, ‘continue’ terminate the current iteration and resumes the control to the next iteration of the loop. \n",
    "The break statement is primarily used as the exit statement, which helps in escaping from the current block or loop."
   ]
  },
  {
   "cell_type": "markdown",
   "metadata": {},
   "source": [
    "# 12. In a for loop, what is the difference between range(10), range(0, 10), and range(0, 10, 1)?\n",
    "\n",
    "range(10) produces c\n",
    "These are exactly the valid indices for a list of 9 elements.\n",
    "\n",
    "range (0,10) produces 0, 1, 2, 3, 4, 5, 6, 7, 8, 9.\n",
    "The first element written in range is the start point which will start producing numbers from 0 and the next element is 10 which is stop i.e. stop after producing 10 elements.\n",
    "\n",
    "range (0,10,1) produces 0, 1, 2, 3, 4, 5, 6, 7, 8, 9.\n",
    "The first element written in range is the start point which will start producing numbers from 0 and the next element is 10 which is stop i.e. stop after producing 10 elements and the third element is step which specifies the increment (or decrement) of an element (1 for increment and -1 for decrement)."
   ]
  },
  {
   "cell_type": "markdown",
   "metadata": {},
   "source": [
    "# 13. Using a for loop, write a short programme that prints the numbers 1 to 10 Then, using a while loop, create an identical programme that prints the numbers 1 to 10."
   ]
  },
  {
   "cell_type": "code",
   "execution_count": 10,
   "metadata": {},
   "outputs": [
    {
     "name": "stdout",
     "output_type": "stream",
     "text": [
      "0\n",
      "1\n",
      "2\n",
      "3\n",
      "4\n",
      "5\n",
      "6\n",
      "7\n",
      "8\n",
      "9\n"
     ]
    }
   ],
   "source": [
    "i=1\n",
    "for i in range(0,10):\n",
    "    print(i)"
   ]
  },
  {
   "cell_type": "code",
   "execution_count": 11,
   "metadata": {},
   "outputs": [
    {
     "name": "stdout",
     "output_type": "stream",
     "text": [
      "0\n",
      "1\n",
      "2\n",
      "3\n",
      "4\n",
      "5\n",
      "6\n",
      "7\n",
      "8\n",
      "9\n"
     ]
    }
   ],
   "source": [
    "i =0\n",
    "f = 10\n",
    "\n",
    "while i < f:\n",
    "    print(i)\n",
    "    i = i + 1"
   ]
  },
  {
   "cell_type": "markdown",
   "metadata": {},
   "source": [
    "# 14. If you had a bacon() function within a spam module, what would you call it after importing spam?\n",
    "\n",
    "This function can be called with spam.bacon()"
   ]
  }
 ],
 "metadata": {
  "kernelspec": {
   "display_name": "Python 3",
   "language": "python",
   "name": "python3"
  },
  "language_info": {
   "codemirror_mode": {
    "name": "ipython",
    "version": 3
   },
   "file_extension": ".py",
   "mimetype": "text/x-python",
   "name": "python",
   "nbconvert_exporter": "python",
   "pygments_lexer": "ipython3",
   "version": "3.8.5"
  }
 },
 "nbformat": 4,
 "nbformat_minor": 4
}
