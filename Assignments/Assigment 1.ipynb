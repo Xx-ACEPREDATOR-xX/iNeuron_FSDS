{
 "cells": [
  {
   "cell_type": "markdown",
   "metadata": {},
   "source": [
    "# 1. What are the differences between operators and values in the following?\n",
    "###  *\n",
    "### 'hello'\n",
    "### -87.8\n",
    "### -\n",
    "### /\n",
    "### +\n",
    "### 6"
   ]
  },
  {
   "cell_type": "code",
   "execution_count": 1,
   "metadata": {},
   "outputs": [],
   "source": [
    "# * operator is used for calculating product of two or more numbers such as:\n",
    "a=10 \n",
    "b=20 \n",
    "c=a*b \n",
    "print(c)\n",
    "\n",
    "# 'hello' is a string type which can be attained by following command\n",
    "print(\" 'hello' \")\n",
    "\n",
    "# -87.8 is a float numerical type which can be coded from following:\n",
    "print(type(-87.8))\n",
    "\n",
    "# - is operator used for finding difference of numbers\n",
    "c=a-b\n",
    "print(c)\n",
    "\n",
    "# / is the operator used for division of any numbers\n",
    "c=a/b      # For numbers\n",
    "print(c)   # For numbers\n",
    "\n",
    "lst1=[1,2,3,4,5]            #For each elements of a list\n",
    "lst2=[5,4,3,2,1]            #For each elements of a list\n",
    "print(lst2[0]-lst1[0])      #For each elements of a list\n",
    "\n",
    "# + is the operator used for addition of numbers and strings such as:\n",
    "c=a+b     # For numbers\n",
    "print(c)  # For numbers\n",
    "\n",
    "m='hello'  # For strings\n",
    "n='world'  # For strings\n",
    "print(m+n)\n",
    "\n",
    "# 6 is a int type which can be found by\n",
    "print(type(6))"
   ]
  },
  {
   "cell_type": "markdown",
   "metadata": {},
   "source": [
    "# 2. What is the difference between string and variable?\n",
    "### spam\n",
    "### 'spam'\n",
    "\n",
    "A variable is used to hold or store a particular value or values assigned to it at the start of the program code.\n",
    "A string is a character which can hold arrays,numbers and much more, the created string is valid if and only if the characters or bytes that the user has given is given is single and double quotes."
   ]
  },
  {
   "cell_type": "markdown",
   "metadata": {},
   "source": [
    "# 3. Describe three different data forms.\n",
    "\n",
    "The 3 different forms of data are \n",
    "(a) Qualitative and Quantitative data\n",
    "(b) Continuous and Discrete data\n",
    "(c) Primary and Secondary data"
   ]
  },
  {
   "cell_type": "markdown",
   "metadata": {},
   "source": [
    "# 4. What makes up an expression? What are the functions of all expressions?\n",
    "\n",
    "In python, an expression is any legal combination of symbols (like a variable, constants and operators) representing a value.\n",
    "An expression must have at least one operand (variable or constant) and have one or more operators.\n",
    "After evaluating an expression we get a value, for example, 'a+b-2a*b-8' is an example of an expression where +,-,* are operators ; a,b are variables ; 8 is a constant."
   ]
  },
  {
   "cell_type": "markdown",
   "metadata": {},
   "source": [
    "# 5. In this chapter, assignment statements such as spam = 10 were added. What's the difference between a declaration and an expression?\n",
    "\n",
    "A declaration is where a variable or a function has been actually created in python before any code is executed.\n",
    "Expressions load only when the interpreter reaches that line of code where user has written an expression.\n",
    "If user executes the expression before declaring the function or a variable they're going to get an error.\n",
    "\n",
    "So in the above code if I execute spam=10 before writing an expression like send_user=20*spam then that code might work fine otherwise calling / loading an expression before declaring a variable always tends to give error in any programming language. (Example code written below)"
   ]
  },
  {
   "cell_type": "code",
   "execution_count": 2,
   "metadata": {},
   "outputs": [
    {
     "data": {
      "text/plain": [
       "200"
      ]
     },
     "execution_count": 2,
     "metadata": {},
     "output_type": "execute_result"
    }
   ],
   "source": [
    "spam=10                 # //declaring a variable named spam and assigning value 10 to it.\n",
    "user_send=20*spam       # //declaring a variable named user_send and giving an expression to it.\n",
    "user_send               # // printing value of user_send variable."
   ]
  },
  {
   "cell_type": "markdown",
   "metadata": {},
   "source": [
    "# 6. After running the following code, what does the variable bacon contain?\n",
    "### bacon = 22\n",
    "### bacon + 1"
   ]
  },
  {
   "cell_type": "code",
   "execution_count": 3,
   "metadata": {},
   "outputs": [
    {
     "data": {
      "text/plain": [
       "22"
      ]
     },
     "execution_count": 3,
     "metadata": {},
     "output_type": "execute_result"
    }
   ],
   "source": [
    "bacon = 22\n",
    "bacon + 1\n",
    "bacon"
   ]
  },
  {
   "cell_type": "markdown",
   "metadata": {},
   "source": [
    "The variable bacon contains value as 22 that has been previously declared."
   ]
  },
  {
   "cell_type": "markdown",
   "metadata": {},
   "source": [
    "# 7. What should the values of the following two terms be?\n",
    "### 'spam' + 'spamspam'\n",
    "### 'spam' * 3"
   ]
  },
  {
   "cell_type": "code",
   "execution_count": 4,
   "metadata": {},
   "outputs": [
    {
     "name": "stdout",
     "output_type": "stream",
     "text": [
      "spamspamspam\n",
      "spamspamspam\n"
     ]
    }
   ],
   "source": [
    "print('spam' + 'spamspam')\n",
    "\n",
    "print('spam' * 3)\n"
   ]
  },
  {
   "cell_type": "markdown",
   "metadata": {},
   "source": [
    "# 8. Why is it that eggs is a true variable name but 100 is not?\n",
    "\n",
    "## In Python Variable Naming Rule; \n",
    "\n",
    "### 1. A variable name should start with letters (a-z or A-Z) or underscore(_) \n",
    "### 2. In variable name, no special characters are allowed other than underscore(_). \n",
    "### 3. Variables are case sensitive\n",
    "### 4. Variable name can have numbers but not at the beginning.\n",
    "### 5. Variable name should not be a Python keyword. Keywords are also called as reserved words.\n",
    "\n",
    "##### So to answer our question ---------\n",
    "##### eggs is a true variable name because all it contains are letters \n",
    "##### whereas\n",
    "##### 100 is a number which falls under 4th condition of the Python Variable Naming Rule."
   ]
  },
  {
   "cell_type": "markdown",
   "metadata": {},
   "source": [
    "# 9. Which of the following three functions may be used to convert a value to an integer, a floating-point number, or a string?"
   ]
  },
  {
   "cell_type": "code",
   "execution_count": 5,
   "metadata": {},
   "outputs": [
    {
     "name": "stdout",
     "output_type": "stream",
     "text": [
      "Enter a integer value : 1176\n",
      "<class 'int'>\n",
      "1176\n",
      "Enter a floating point value : 3.141526\n",
      "<class 'float'>\n",
      "3.141526\n",
      "Enter a phone number  :  9876543210\n",
      "<class 'str'>\n",
      "9876543210\n",
      "1176\n",
      "<class 'str'>\n",
      "3.141526\n",
      "<class 'str'>\n",
      "3\n",
      "<class 'int'>\n",
      "9876543210\n",
      "<class 'int'>\n",
      "1176.0\n",
      "<class 'float'>\n",
      "9876543210.0\n",
      "<class 'float'>\n"
     ]
    }
   ],
   "source": [
    "a=int(input('Enter a integer value : '))\n",
    "print(type(a))\n",
    "print(a)\n",
    "b=float(input('Enter a floating point value : '))\n",
    "print(type(b))\n",
    "print(b)\n",
    "c=input('Enter a phone number  :  ')\n",
    "print(type(c))\n",
    "print(c)\n",
    "\n",
    "# Case A - Conversion of integer and floating-point values to 'string'\n",
    "str1=str(a)\n",
    "print(str1)\n",
    "print(type(str1))\n",
    "str2=str(b)\n",
    "print(str2)\n",
    "print(type(str2))\n",
    "\n",
    "# Case B - Conversion of floating-point and string values to 'int'\n",
    "int1=int(b)\n",
    "print(int1)\n",
    "print(type(int1))\n",
    "int2 = int(c)\n",
    "print(int2)\n",
    "print(type(int2))\n",
    "\n",
    "# Case C - Conversion of integer and string values to 'floating-point'\n",
    "float1=float(a)\n",
    "print(float1)\n",
    "print(type(float1))\n",
    "float2=float(c)\n",
    "print(float2)\n",
    "print(type(float2))\n"
   ]
  },
  {
   "cell_type": "markdown",
   "metadata": {},
   "source": [
    "# 10. What is the error caused by this expression? What would you do about it?\n",
    "\n",
    "## 'I have eaten ' + 99 + ' burritos.'\n"
   ]
  },
  {
   "cell_type": "markdown",
   "metadata": {},
   "source": [
    "### Incorrect Expression"
   ]
  },
  {
   "cell_type": "code",
   "execution_count": 6,
   "metadata": {},
   "outputs": [
    {
     "ename": "TypeError",
     "evalue": "can only concatenate str (not \"int\") to str",
     "output_type": "error",
     "traceback": [
      "\u001b[1;31m---------------------------------------------------------------------------\u001b[0m",
      "\u001b[1;31mTypeError\u001b[0m                                 Traceback (most recent call last)",
      "\u001b[1;32m<ipython-input-6-e4f3ea35a136>\u001b[0m in \u001b[0;36m<module>\u001b[1;34m\u001b[0m\n\u001b[0;32m      3\u001b[0m \u001b[0mend\u001b[0m \u001b[1;33m=\u001b[0m \u001b[1;34m'burritos'\u001b[0m\u001b[1;33m\u001b[0m\u001b[1;33m\u001b[0m\u001b[0m\n\u001b[0;32m      4\u001b[0m \u001b[1;33m\u001b[0m\u001b[0m\n\u001b[1;32m----> 5\u001b[1;33m \u001b[0mvalue\u001b[0m \u001b[1;33m=\u001b[0m \u001b[0mstart\u001b[0m\u001b[1;33m+\u001b[0m\u001b[0mmidpoint\u001b[0m\u001b[1;33m+\u001b[0m\u001b[0mend\u001b[0m\u001b[1;33m\u001b[0m\u001b[1;33m\u001b[0m\u001b[0m\n\u001b[0m\u001b[0;32m      6\u001b[0m \u001b[0mprint\u001b[0m\u001b[1;33m(\u001b[0m\u001b[0mvalue\u001b[0m\u001b[1;33m)\u001b[0m\u001b[1;33m\u001b[0m\u001b[1;33m\u001b[0m\u001b[0m\n",
      "\u001b[1;31mTypeError\u001b[0m: can only concatenate str (not \"int\") to str"
     ]
    }
   ],
   "source": [
    "start='I have eaten'\n",
    "midpoint = 99\n",
    "end = 'burritos'\n",
    "\n",
    "value = start+midpoint+end\n",
    "print(value)"
   ]
  },
  {
   "cell_type": "markdown",
   "metadata": {},
   "source": [
    "### Correct Expression"
   ]
  },
  {
   "cell_type": "code",
   "execution_count": 7,
   "metadata": {},
   "outputs": [
    {
     "name": "stdout",
     "output_type": "stream",
     "text": [
      "I have eaten99burritos\n"
     ]
    }
   ],
   "source": [
    "start='I have eaten'\n",
    "midpoint = 99\n",
    "end = 'burritos'\n",
    "\n",
    "value = start +  str(midpoint) + end\n",
    "print(value)"
   ]
  },
  {
   "cell_type": "markdown",
   "metadata": {},
   "source": [
    "As written in the above two lines , when you directly try to concatenate string and integer value the program throws a Type Error.\n",
    "In order to get a proper result, one has to convert the integer value to string as shown in Solution window."
   ]
  }
 ],
 "metadata": {
  "kernelspec": {
   "display_name": "Python 3",
   "language": "python",
   "name": "python3"
  },
  "language_info": {
   "codemirror_mode": {
    "name": "ipython",
    "version": 3
   },
   "file_extension": ".py",
   "mimetype": "text/x-python",
   "name": "python",
   "nbconvert_exporter": "python",
   "pygments_lexer": "ipython3",
   "version": "3.8.5"
  }
 },
 "nbformat": 4,
 "nbformat_minor": 4
}
