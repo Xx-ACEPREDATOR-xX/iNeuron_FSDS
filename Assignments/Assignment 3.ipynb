{
 "cells": [
  {
   "cell_type": "markdown",
   "metadata": {},
   "source": [
    "# 1. What are the benefits of including roles in the programmes?"
   ]
  },
  {
   "cell_type": "markdown",
   "metadata": {},
   "source": [
    "# 2. When does the code in a function run: when it's specified or when it's called?\n",
    "\n",
    "By calling a function the code inside a function runs or gets executed."
   ]
  },
  {
   "cell_type": "markdown",
   "metadata": {},
   "source": [
    "# 3. What statement causes a feature to be created?\n",
    "\n",
    "### The def create a function object and assigns it to a name. Its general format is:\n",
    "### def <name>(arg1, arg2,...,argN) \n",
    "    <statement>\n",
    "\n",
    "### The notable thing here is that the function doesn't define a return datatype. \n",
    "### Python functions do not specify the datatype of their return value. \n",
    "### They don't even specify whether or not they return a value. \n",
    "### Actually, however, every Python function returns a value if the function ever executes a return statement, and it will return that value. Otherwise, it will return None.\n",
    "\n",
    "### Everything in Python is a function, all functions return a value even if it is None, and all functions start with def."
   ]
  },
  {
   "cell_type": "markdown",
   "metadata": {},
   "source": [
    "# 4. What is the distinction between a function and a call to a function?\n",
    "\n",
    "A function is a block of code that does a particular operation and returns a result.\n",
    "It usually accepts inputs as parameters and returns a result.\n",
    "\n",
    "A function call is the code used to pass control to a unction.\n",
    "\n",
    "Example code is written below;"
   ]
  },
  {
   "cell_type": "code",
   "execution_count": 1,
   "metadata": {},
   "outputs": [
    {
     "name": "stdout",
     "output_type": "stream",
     "text": [
      "Hello! How are you today.\n",
      "None\n",
      "Mark Whalberg\n",
      "Steve Whalberg\n"
     ]
    }
   ],
   "source": [
    "# Function\n",
    "\n",
    "def func1():\n",
    "    print('Hello! How are you today.')\n",
    "print(func1())\n",
    "\n",
    "# Call to a Function\n",
    "\n",
    "def func2(name):\n",
    "    print(name+' Whalberg')\n",
    "func2('Mark')\n",
    "func2('Steve')"
   ]
  },
  {
   "cell_type": "markdown",
   "metadata": {},
   "source": [
    "# 5. In a Python application, how many global scopes are there? How many local scopes are there?\n",
    "\n",
    "### We can define the scope of the variable as the extent of the program within which we can access the variable.\n",
    "\n",
    "### "
   ]
  },
  {
   "cell_type": "markdown",
   "metadata": {},
   "source": [
    "# 6. When a function call returns, what happens to variables in the local scope?\n",
    "#### The variables are executed and according to the operation scripted they execute themselves."
   ]
  },
  {
   "cell_type": "markdown",
   "metadata": {},
   "source": [
    "# 7. What is the concept of a return value? Is it possible to have a return value in an expression?\n",
    "\n",
    "#### A return statement is used to end the execution of the function call and “returns” the result (value of the expression following the return keyword) to the caller. \n",
    "#### The statements after the return statements are not executed. If the return statement is without any expression, then the special value None is returned."
   ]
  },
  {
   "cell_type": "markdown",
   "metadata": {},
   "source": [
    "# 8. What is the return value of a call to a function that does not have a return statement?\n",
    "#### If a function doesn't specify a return value, it returns None. "
   ]
  },
  {
   "cell_type": "markdown",
   "metadata": {},
   "source": [
    "# 9. How do you make a function variable refer to the global variable?\n",
    "\n",
    "#### Global variables are the one that is defined and declared outside a function and we need to use them inside a function. \n",
    "#### To tell Python, that we want to use the global variable, we have to use the keyword “global”."
   ]
  },
  {
   "cell_type": "markdown",
   "metadata": {},
   "source": [
    "# 10. What data form does None belong to?\n",
    "#### None is a keyword in python which has a special meaning. It is like NIL or NULL in other languages."
   ]
  },
  {
   "cell_type": "markdown",
   "metadata": {},
   "source": [
    "# 11. What does the sentence import areallyourpetsnamederic do?\n",
    "####  The sentence imports a module named areallyourpetsnamederic."
   ]
  },
  {
   "cell_type": "markdown",
   "metadata": {},
   "source": [
    "# 12. If you had a bacon() feature in a spam module, what would you call it after importing spam?\n",
    "#### I would call it as a 'Function Call' after importing spam."
   ]
  },
  {
   "cell_type": "markdown",
   "metadata": {},
   "source": [
    "# 13. What can you do to save a programme from crashing if it encounters an error?\n",
    "#### Add an exception handling code to save the program from crashing due to error."
   ]
  },
  {
   "cell_type": "markdown",
   "metadata": {},
   "source": [
    "# 14. What is the purpose of the try clause? What is the purpose of the except clause?"
   ]
  },
  {
   "cell_type": "markdown",
   "metadata": {},
   "source": [
    "#### The try block is used to check some code for errors i.e the code inside the try block will execute when there is no error in the program. \n",
    "#### Whereas the code inside the except block will execute whenever the program encounters some error in the preceding try block.\n",
    "#### Example given below;"
   ]
  },
  {
   "cell_type": "code",
   "execution_count": 2,
   "metadata": {},
   "outputs": [
    {
     "name": "stdout",
     "output_type": "stream",
     "text": [
      "Yeah ! Your answer is : 1\n"
     ]
    }
   ],
   "source": [
    "def divide(x, y):\n",
    "    try:\n",
    "        result = x // y\n",
    "        print(\"Yeah ! Your answer is :\", result)\n",
    "    except ZeroDivisionError:\n",
    "        print(\"Sorry ! You are dividing by zero \")\n",
    "divide(3, 2)"
   ]
  },
  {
   "cell_type": "code",
   "execution_count": 3,
   "metadata": {},
   "outputs": [
    {
     "name": "stdout",
     "output_type": "stream",
     "text": [
      "Sorry ! You are dividing by zero \n"
     ]
    }
   ],
   "source": [
    "def divide(x, y):\n",
    "    try:\n",
    "        result = x // y\n",
    "        print(\"Yeah ! Your answer is :\", result)\n",
    "    except ZeroDivisionError:\n",
    "        print(\"Sorry ! You are dividing by zero \")\n",
    "divide(10, 0)"
   ]
  }
 ],
 "metadata": {
  "kernelspec": {
   "display_name": "Python 3",
   "language": "python",
   "name": "python3"
  },
  "language_info": {
   "codemirror_mode": {
    "name": "ipython",
    "version": 3
   },
   "file_extension": ".py",
   "mimetype": "text/x-python",
   "name": "python",
   "nbconvert_exporter": "python",
   "pygments_lexer": "ipython3",
   "version": "3.8.5"
  }
 },
 "nbformat": 4,
 "nbformat_minor": 4
}
